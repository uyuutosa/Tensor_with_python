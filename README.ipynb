{
 "cells": [
  {
   "cell_type": "code",
   "execution_count": 1,
   "metadata": {
    "collapsed": false
   },
   "outputs": [],
   "source": [
    "from tensor import * "
   ]
  },
  {
   "cell_type": "markdown",
   "metadata": {},
   "source": [
    "### Basic arithmetic operations"
   ]
  },
  {
   "cell_type": "markdown",
   "metadata": {},
   "source": [
    "In this section basic tensor calculation is described, Let $a_i \\equiv (1,2,3), b_j \\equiv (3,5,6).$ Defined as follows,"
   ]
  },
  {
   "cell_type": "code",
   "execution_count": 25,
   "metadata": {
    "collapsed": false
   },
   "outputs": [],
   "source": [
    "a = tensor(array([1,2,3]), \"i\", \"d\") # Define a rank 1 tensor has 1 subscript i.\n",
    "b = tensor(array([3,5,6]), \"j\", \"d\") # Define a rank 1 tensor has 1 subscript j."
   ]
  },
  {
   "cell_type": "markdown",
   "metadata": {},
   "source": [
    "These arrays are one dimensional, so and can be written as vector $\\boldsymbol{a}$ and $\\boldsymbol{b}$, but each two tensor has odd subscripts, $i$ and $j$, which mean that two vectors are individual. Ordinary vector calulation can not handle the individual caluclation, but tensor can handle it, because tensor clearly specifies whether two tensor are individual with super or subscripts. "
   ]
  },
  {
   "cell_type": "markdown",
   "metadata": {},
   "source": [
    "Two tensor $a_i$ and $b_j$ can be output these infomation with print function."
   ]
  },
  {
   "cell_type": "code",
   "execution_count": 26,
   "metadata": {
    "collapsed": false
   },
   "outputs": [
    {
     "name": "stdout",
     "output_type": "stream",
     "text": [
      "value----------\n",
      "[1 2 3]\n",
      "\n",
      "form----------\n",
      "   \n",
      " a \n",
      "   i\n",
      "\n",
      "shape---------\n",
      "i : 3\n"
     ]
    }
   ],
   "source": [
    "print (a)"
   ]
  },
  {
   "cell_type": "code",
   "execution_count": 27,
   "metadata": {
    "collapsed": false
   },
   "outputs": [
    {
     "name": "stdout",
     "output_type": "stream",
     "text": [
      "value----------\n",
      "[3 5 6]\n",
      "\n",
      "form----------\n",
      "   \n",
      " a \n",
      "   j\n",
      "\n",
      "shape---------\n",
      "j : 3\n"
     ]
    }
   ],
   "source": [
    "print (b)"
   ]
  },
  {
   "cell_type": "markdown",
   "metadata": {},
   "source": [
    "Basic arithmetic operations of $a_i$ and $b_j$ as follows,"
   ]
  },
  {
   "cell_type": "markdown",
   "metadata": {},
   "source": [
    "#### $a_i + b_j$ "
   ]
  },
  {
   "cell_type": "code",
   "execution_count": 28,
   "metadata": {
    "collapsed": false,
    "scrolled": true
   },
   "outputs": [
    {
     "data": {
      "text/plain": [
       "value----------\n",
       "[[ 4.  6.  7.]\n",
       " [ 5.  7.  8.]\n",
       " [ 6.  8.  9.]]\n",
       "\n",
       "form----------\n",
       "   \n",
       " a \n",
       "   ij\n",
       "\n",
       "shape---------\n",
       "i : 3\n",
       "j : 3"
      ]
     },
     "execution_count": 28,
     "metadata": {},
     "output_type": "execute_result"
    }
   ],
   "source": [
    "a + b"
   ]
  },
  {
   "cell_type": "markdown",
   "metadata": {},
   "source": [
    "#### $a_i - b_j$ "
   ]
  },
  {
   "cell_type": "code",
   "execution_count": 29,
   "metadata": {
    "collapsed": false
   },
   "outputs": [
    {
     "data": {
      "text/plain": [
       "value----------\n",
       "[[-2. -4. -5.]\n",
       " [-1. -3. -4.]\n",
       " [ 0. -2. -3.]]\n",
       "\n",
       "form----------\n",
       "   \n",
       " a \n",
       "   ij\n",
       "\n",
       "shape---------\n",
       "i : 3\n",
       "j : 3"
      ]
     },
     "execution_count": 29,
     "metadata": {},
     "output_type": "execute_result"
    }
   ],
   "source": [
    "a - b"
   ]
  },
  {
   "cell_type": "markdown",
   "metadata": {},
   "source": [
    "#### $a_i * b_j$"
   ]
  },
  {
   "cell_type": "code",
   "execution_count": 30,
   "metadata": {
    "collapsed": false
   },
   "outputs": [
    {
     "data": {
      "text/plain": [
       "value----------\n",
       "[[ 3  5  6]\n",
       " [ 6 10 12]\n",
       " [ 9 15 18]]\n",
       "\n",
       "form----------\n",
       "   \n",
       " tmp \n",
       "   ij\n",
       "\n",
       "shape---------\n",
       "i : 3\n",
       "j : 3"
      ]
     },
     "execution_count": 30,
     "metadata": {},
     "output_type": "execute_result"
    }
   ],
   "source": [
    "a * b # Correspond with outer product."
   ]
  },
  {
   "cell_type": "markdown",
   "metadata": {},
   "source": [
    "#### $a_i ** b_j$"
   ]
  },
  {
   "cell_type": "code",
   "execution_count": 31,
   "metadata": {
    "collapsed": false
   },
   "outputs": [
    {
     "data": {
      "text/plain": [
       "value----------\n",
       "[[   1.    1.    1.]\n",
       " [   8.   32.   64.]\n",
       " [  27.  243.  729.]]\n",
       "\n",
       "form----------\n",
       "   \n",
       " a \n",
       "   ij\n",
       "\n",
       "shape---------\n",
       "i : 3\n",
       "j : 3"
      ]
     },
     "execution_count": 31,
     "metadata": {},
     "output_type": "execute_result"
    }
   ],
   "source": [
    "a ** b"
   ]
  },
  {
   "cell_type": "markdown",
   "metadata": {},
   "source": [
    "As you know these tensor calculation only indicate elementwize calculation. Though simple notation, tensor has abundant expressive power."
   ]
  },
  {
   "cell_type": "markdown",
   "metadata": {},
   "source": [
    "## Matrix product"
   ]
  },
  {
   "cell_type": "markdown",
   "metadata": {},
   "source": [
    "Matrix product corresponds to the calculation between both of rank 2 tensor, which has two additional caractor and each one caractor is same and put odd location(super or sub script). Below example shows Matrix product of $c_i^j$ and $d_{jk}$, defined as follows,"
   ]
  },
  {
   "cell_type": "code",
   "execution_count": 32,
   "metadata": {
    "collapsed": false
   },
   "outputs": [],
   "source": [
    "c = tensor(array([[1,2,3], [4,5,6],   [7,8,9]]), \"ij\", \"du\")  # Define a rank 2 tensor has 2 subscript ij.\n",
    "d = tensor(array([[6,7,8], [9,10,11], [12,13,14]]), \"jk\", \"dd\") # Define a rank 2 tensor has 2 subscript jk."
   ]
  },
  {
   "cell_type": "markdown",
   "metadata": {},
   "source": [
    "In tensor calculation, matrix product can be simple, as only multiply $c_i^j$ with $d_{jk}$ as follows,  "
   ]
  },
  {
   "cell_type": "code",
   "execution_count": 33,
   "metadata": {
    "collapsed": false
   },
   "outputs": [
    {
     "name": "stdout",
     "output_type": "stream",
     "text": [
      "value----------\n",
      "[[  60.   66.   72.]\n",
      " [ 141.  156.  171.]\n",
      " [ 222.  246.  270.]]\n",
      "\n",
      "form----------\n",
      "   \n",
      " a \n",
      "   ik\n",
      "\n",
      "shape---------\n",
      "i : 3\n",
      "k : 3\n"
     ]
    }
   ],
   "source": [
    "e = (c * d)\n",
    "print e"
   ]
  },
  {
   "cell_type": "markdown",
   "metadata": {},
   "source": [
    "$e_{ik} = c_i^j d_{jk}$ was acquired. Same calclation using matrix notation with numpy is possible, "
   ]
  },
  {
   "cell_type": "code",
   "execution_count": 34,
   "metadata": {
    "collapsed": false
   },
   "outputs": [
    {
     "name": "stdout",
     "output_type": "stream",
     "text": [
      "[[ 60  66  72]\n",
      " [141 156 171]\n",
      " [222 246 270]]\n"
     ]
    }
   ],
   "source": [
    "c = array([[1,2,3], [4,5,6], [7,8,9]])\n",
    "d = array([[6,7,8], [9,10,11], [12,13,14]])\n",
    "\n",
    "print c.dot(d)"
   ]
  },
  {
   "cell_type": "markdown",
   "metadata": {},
   "source": [
    "### Calculation of cross product with rank 3 permutation symbol. "
   ]
  },
  {
   "cell_type": "markdown",
   "metadata": {},
   "source": [
    "Using purmutation symbol(described at https://en.wikipedia.org/wiki/Levi-Civita_symbol), cross product can be calculated with tensor. Generate a rank 3 permutation symbol as follows,"
   ]
  },
  {
   "cell_type": "code",
   "execution_count": 35,
   "metadata": {
    "collapsed": false
   },
   "outputs": [],
   "source": [
    "ep = tensor_ps(3, idx=\"ijk\", ud=\"uud\") # ud=uud mean ep^ij_k"
   ]
  },
  {
   "cell_type": "markdown",
   "metadata": {},
   "source": [
    "and two rank 1 tensor (vector) is also defined,"
   ]
  },
  {
   "cell_type": "code",
   "execution_count": 36,
   "metadata": {
    "collapsed": true
   },
   "outputs": [],
   "source": [
    "c = tensor([0,1,2], \"i\", \"d\")\n",
    "d = tensor([3,4,5], \"j\", \"d\")"
   ]
  },
  {
   "cell_type": "markdown",
   "metadata": {},
   "source": [
    "calculation and output result are performed as follows,"
   ]
  },
  {
   "cell_type": "code",
   "execution_count": 37,
   "metadata": {
    "collapsed": false
   },
   "outputs": [],
   "source": [
    "e = ep * c * d"
   ]
  },
  {
   "cell_type": "code",
   "execution_count": 38,
   "metadata": {
    "collapsed": false
   },
   "outputs": [
    {
     "name": "stdout",
     "output_type": "stream",
     "text": [
      "value----------\n",
      "[-3  6 -3]\n",
      "\n",
      "form----------\n",
      "   \n",
      " a \n",
      "   k\n",
      "\n",
      "shape---------\n",
      "k : 3\n"
     ]
    }
   ],
   "source": [
    "print e\n"
   ]
  },
  {
   "cell_type": "markdown",
   "metadata": {},
   "source": [
    "This result corresponds to usual cross product as vector with numpy"
   ]
  },
  {
   "cell_type": "code",
   "execution_count": 39,
   "metadata": {
    "collapsed": false
   },
   "outputs": [
    {
     "name": "stdout",
     "output_type": "stream",
     "text": [
      "[-3  6 -3]\n"
     ]
    }
   ],
   "source": [
    "print cross(array([0,1,2]), array([3,4,5]))"
   ]
  },
  {
   "cell_type": "markdown",
   "metadata": {},
   "source": [
    "## Appendix"
   ]
  },
  {
   "cell_type": "markdown",
   "metadata": {},
   "source": [
    "More example of implementation is introduced as http://qiita.com/uyuutosa "
   ]
  }
 ],
 "metadata": {
  "anaconda-cloud": {},
  "kernelspec": {
   "display_name": "Python [conda env:py2]",
   "language": "python",
   "name": "conda-env-py2-py"
  },
  "language_info": {
   "codemirror_mode": {
    "name": "ipython",
    "version": 2
   },
   "file_extension": ".py",
   "mimetype": "text/x-python",
   "name": "python",
   "nbconvert_exporter": "python",
   "pygments_lexer": "ipython2",
   "version": "2.7.12"
  }
 },
 "nbformat": 4,
 "nbformat_minor": 1
}
